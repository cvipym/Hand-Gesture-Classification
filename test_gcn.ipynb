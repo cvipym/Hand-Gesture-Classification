{
 "cells": [
  {
   "cell_type": "markdown",
   "metadata": {},
   "source": [
    "# 1. Dataset 준비"
   ]
  },
  {
   "cell_type": "code",
   "execution_count": null,
   "metadata": {},
   "outputs": [],
   "source": [
    "import torch\n",
    "import torch.nn as nn\n",
    "import torch.nn.functional as F     \n",
    "import torch.optim as optim\n",
    "\n",
    "from torch.utils.data import TensorDataset # 텐서 데이터셋\n",
    "from torch.utils.data import DataLoader # 데이터로더\n",
    "\n",
    "from torch_geometric.data import Data\n",
    "from torch_geometric.nn import GCNConv\n",
    "\n",
    "#csv이용을 위한 라이브러리들\n",
    "import numpy as np\n",
    "import csv\n",
    "from sklearn.model_selection import train_test_split\n",
    "from sklearn.metrics import confusion_matrix, classification_report\n",
    "\n",
    "import seaborn as sns\n",
    "import matplotlib.pyplot as plt\n",
    "import pandas as pd\n",
    "\n",
    "from tqdm import tqdm\n",
    "\n",
    "device = torch.device('cuda' if torch.cuda.is_available() else 'cpu')\n",
    "\n",
    "train_dataset_path = 'model/keypoint_classifier/keypoint.csv'\n",
    "coord_norm = np.loadtxt(train_dataset_path,delimiter=',',dtype='float32',usecols=list(range(1,(21*2)+1)))\n",
    "label = np.loadtxt(train_dataset_path,delimiter=',',dtype='float32',usecols=(0))\n",
    "\n",
    "coord_norm = torch.tensor(coord_norm).to(device)\n",
    "label = torch.tensor(label).to(device)\n"
   ]
  },
  {
   "cell_type": "markdown",
   "metadata": {},
   "source": [
    "# 2. Graph Convolution Network 설계"
   ]
  },
  {
   "cell_type": "code",
   "execution_count": null,
   "metadata": {},
   "outputs": [],
   "source": [
    "import torch\n",
    "from torch_geometric.data import Data, DataLoader\n",
    "from torch_geometric.nn import GCNConv, global_mean_pool\n",
    "from torch_geometric.utils import add_self_loops\n",
    "\n",
    "# GCN 설계\n",
    "class HandGestureGCN(torch.nn.Module):\n",
    "    def __init__(self, in_channels=2, hidden_channels=64, out_channels=10, depth=2):\n",
    "        super().__init__()\n",
    "        self.convs = torch.nn.ModuleList()\n",
    "        for i in range(depth):\n",
    "            if i == 0:\n",
    "                self.convs.append(GCNConv(in_channels, hidden_channels))\n",
    "            else:\n",
    "                self.convs.append(GCNConv(hidden_channels, hidden_channels))\n",
    "\n",
    "        self.fc = torch.nn.Linear(hidden_channels, out_channels)\n",
    "\n",
    "    def forward(self, x, edge_index, batch):\n",
    "        for conv in self.convs:\n",
    "            x = conv(x, edge_index)\n",
    "            x = F.relu(x)\n",
    "        x = global_mean_pool(x, batch)  # [num_graphs, hidden_channels] (readout)\n",
    "        return self.fc(x)\n",
    "\n",
    "# 원래 data에서 GCN에 어울리는 data로 변환\n",
    "def create_data_list(coord_tensor, label_tensor, edge_index):\n",
    "    data_list = []\n",
    "    for i in range(coord_tensor.size(0)):\n",
    "        coords = coord_tensor[i].view(21, 2)  # [42] -> [21, 2]\n",
    "        label = label_tensor[i].long()\n",
    "        data = Data(x=coords, edge_index=edge_index, y=label)\n",
    "        data_list.append(data)\n",
    "    return data_list"
   ]
  },
  {
   "cell_type": "markdown",
   "metadata": {},
   "source": [
    "# 3. Training"
   ]
  },
  {
   "cell_type": "code",
   "execution_count": null,
   "metadata": {},
   "outputs": [
    {
     "name": "stderr",
     "output_type": "stream",
     "text": [
      "c:\\Users\\cvip\\anaconda3\\envs\\dnn\\lib\\site-packages\\torch_geometric\\deprecation.py:26: UserWarning: 'data.DataLoader' is deprecated, use 'loader.DataLoader' instead\n",
      "  warnings.warn(out)\n"
     ]
    }
   ],
   "source": [
    "'''\n",
    "Data 생성\n",
    "Node Feature: 21개의 keypoint 좌표 (x, y)\n",
    "Edge Feature: 21개의 keypoint 간의 연결 (엄지, 검지, 중지, 약지, 소지)\n",
    "Label: 손 제스처 클래스 (0~9)\n",
    "'''\n",
    "\n",
    "# 1. 원래 edge 정의\n",
    "edges = [\n",
    "    (0, 1), (1, 2), (2, 3), (3, 4), (0, 5),  # 엄지\n",
    "    (5, 9), (5, 6), (6, 7), (7, 8),         # 검지\n",
    "    (9, 13), (9, 10), (10, 11), (11, 12),   # 중지\n",
    "    (13, 17), (13, 14), (14, 15), (15, 16), # 약지\n",
    "    (0, 17), (17, 18), (18, 19), (19, 20)   # 소지\n",
    "]\n",
    "\n",
    "# 2. 양방향 처리\n",
    "edges += [(j, i) for (i, j) in edges]\n",
    "\n",
    "# 3. Tensor로 변환\n",
    "edge_index = torch.tensor(edges, dtype=torch.long).t().contiguous()  # shape: [2, num_edges]\n",
    "\n",
    "# 4. self-loop 추가\n",
    "edge_index, _ = add_self_loops(edge_index, num_nodes=21)\n",
    "\n",
    "# 5. 데이터셋 생성\n",
    "data_list = create_data_list(coord_norm, label, edge_index)"
   ]
  },
  {
   "cell_type": "code",
   "execution_count": 39,
   "metadata": {},
   "outputs": [
    {
     "name": "stderr",
     "output_type": "stream",
     "text": [
      "[Epoch 1/100] Training: 100%|██████████| 164/164 [00:01<00:00, 147.21it/s]\n"
     ]
    },
    {
     "name": "stdout",
     "output_type": "stream",
     "text": [
      "        Loss: 2.1382 | Test Acc: 0.2688 | Best: 0.2688\n"
     ]
    },
    {
     "name": "stderr",
     "output_type": "stream",
     "text": [
      "[Epoch 2/100] Training: 100%|██████████| 164/164 [00:00<00:00, 164.15it/s]\n"
     ]
    },
    {
     "name": "stdout",
     "output_type": "stream",
     "text": [
      "        Loss: 1.9343 | Test Acc: 0.3974 | Best: 0.3974\n"
     ]
    },
    {
     "name": "stderr",
     "output_type": "stream",
     "text": [
      "[Epoch 3/100] Training: 100%|██████████| 164/164 [00:00<00:00, 168.52it/s]\n"
     ]
    },
    {
     "name": "stdout",
     "output_type": "stream",
     "text": [
      "        Loss: 1.6978 | Test Acc: 0.4104 | Best: 0.4104\n"
     ]
    },
    {
     "name": "stderr",
     "output_type": "stream",
     "text": [
      "[Epoch 4/100] Training: 100%|██████████| 164/164 [00:01<00:00, 162.85it/s]\n"
     ]
    },
    {
     "name": "stdout",
     "output_type": "stream",
     "text": [
      "        Loss: 1.5727 | Test Acc: 0.4288 | Best: 0.4288\n"
     ]
    },
    {
     "name": "stderr",
     "output_type": "stream",
     "text": [
      "[Epoch 5/100] Training: 100%|██████████| 164/164 [00:00<00:00, 172.18it/s]\n"
     ]
    },
    {
     "name": "stdout",
     "output_type": "stream",
     "text": [
      "        Loss: 1.4954 | Test Acc: 0.4288 | Best: 0.4288\n"
     ]
    },
    {
     "name": "stderr",
     "output_type": "stream",
     "text": [
      "[Epoch 6/100] Training: 100%|██████████| 164/164 [00:01<00:00, 162.72it/s]\n"
     ]
    },
    {
     "name": "stdout",
     "output_type": "stream",
     "text": [
      "        Loss: 1.4329 | Test Acc: 0.4510 | Best: 0.4510\n"
     ]
    },
    {
     "name": "stderr",
     "output_type": "stream",
     "text": [
      "[Epoch 7/100] Training: 100%|██████████| 164/164 [00:00<00:00, 164.69it/s]\n"
     ]
    },
    {
     "name": "stdout",
     "output_type": "stream",
     "text": [
      "        Loss: 1.3940 | Test Acc: 0.4686 | Best: 0.4686\n"
     ]
    },
    {
     "name": "stderr",
     "output_type": "stream",
     "text": [
      "[Epoch 8/100] Training: 100%|██████████| 164/164 [00:00<00:00, 172.03it/s]\n"
     ]
    },
    {
     "name": "stdout",
     "output_type": "stream",
     "text": [
      "        Loss: 1.3609 | Test Acc: 0.4885 | Best: 0.4885\n"
     ]
    },
    {
     "name": "stderr",
     "output_type": "stream",
     "text": [
      "[Epoch 9/100] Training: 100%|██████████| 164/164 [00:01<00:00, 162.38it/s]\n"
     ]
    },
    {
     "name": "stdout",
     "output_type": "stream",
     "text": [
      "        Loss: 1.3257 | Test Acc: 0.5138 | Best: 0.5138\n"
     ]
    },
    {
     "name": "stderr",
     "output_type": "stream",
     "text": [
      "[Epoch 10/100] Training: 100%|██████████| 164/164 [00:00<00:00, 168.84it/s]\n"
     ]
    },
    {
     "name": "stdout",
     "output_type": "stream",
     "text": [
      "        Loss: 1.3060 | Test Acc: 0.5092 | Best: 0.5138\n"
     ]
    },
    {
     "name": "stderr",
     "output_type": "stream",
     "text": [
      "[Epoch 11/100] Training: 100%|██████████| 164/164 [00:00<00:00, 164.33it/s]\n"
     ]
    },
    {
     "name": "stdout",
     "output_type": "stream",
     "text": [
      "        Loss: 1.2876 | Test Acc: 0.5230 | Best: 0.5230\n"
     ]
    },
    {
     "name": "stderr",
     "output_type": "stream",
     "text": [
      "[Epoch 12/100] Training: 100%|██████████| 164/164 [00:01<00:00, 155.01it/s]\n"
     ]
    },
    {
     "name": "stdout",
     "output_type": "stream",
     "text": [
      "        Loss: 1.2633 | Test Acc: 0.5360 | Best: 0.5360\n"
     ]
    },
    {
     "name": "stderr",
     "output_type": "stream",
     "text": [
      "[Epoch 13/100] Training: 100%|██████████| 164/164 [00:01<00:00, 156.06it/s]\n"
     ]
    },
    {
     "name": "stdout",
     "output_type": "stream",
     "text": [
      "        Loss: 1.2432 | Test Acc: 0.5697 | Best: 0.5697\n"
     ]
    },
    {
     "name": "stderr",
     "output_type": "stream",
     "text": [
      "[Epoch 14/100] Training: 100%|██████████| 164/164 [00:00<00:00, 174.13it/s]\n"
     ]
    },
    {
     "name": "stdout",
     "output_type": "stream",
     "text": [
      "        Loss: 1.2257 | Test Acc: 0.5789 | Best: 0.5789\n"
     ]
    },
    {
     "name": "stderr",
     "output_type": "stream",
     "text": [
      "[Epoch 15/100] Training: 100%|██████████| 164/164 [00:01<00:00, 162.82it/s]\n"
     ]
    },
    {
     "name": "stdout",
     "output_type": "stream",
     "text": [
      "        Loss: 1.2065 | Test Acc: 0.5934 | Best: 0.5934\n"
     ]
    },
    {
     "name": "stderr",
     "output_type": "stream",
     "text": [
      "[Epoch 16/100] Training: 100%|██████████| 164/164 [00:01<00:00, 163.18it/s]\n"
     ]
    },
    {
     "name": "stdout",
     "output_type": "stream",
     "text": [
      "        Loss: 1.1859 | Test Acc: 0.5995 | Best: 0.5995\n"
     ]
    },
    {
     "name": "stderr",
     "output_type": "stream",
     "text": [
      "[Epoch 17/100] Training: 100%|██████████| 164/164 [00:01<00:00, 163.57it/s]\n"
     ]
    },
    {
     "name": "stdout",
     "output_type": "stream",
     "text": [
      "        Loss: 1.1713 | Test Acc: 0.5934 | Best: 0.5995\n"
     ]
    },
    {
     "name": "stderr",
     "output_type": "stream",
     "text": [
      "[Epoch 18/100] Training: 100%|██████████| 164/164 [00:00<00:00, 175.31it/s]\n"
     ]
    },
    {
     "name": "stdout",
     "output_type": "stream",
     "text": [
      "        Loss: 1.1520 | Test Acc: 0.5804 | Best: 0.5995\n"
     ]
    },
    {
     "name": "stderr",
     "output_type": "stream",
     "text": [
      "[Epoch 19/100] Training: 100%|██████████| 164/164 [00:00<00:00, 165.82it/s]\n"
     ]
    },
    {
     "name": "stdout",
     "output_type": "stream",
     "text": [
      "        Loss: 1.1316 | Test Acc: 0.6340 | Best: 0.6340\n"
     ]
    },
    {
     "name": "stderr",
     "output_type": "stream",
     "text": [
      "[Epoch 20/100] Training: 100%|██████████| 164/164 [00:01<00:00, 159.22it/s]\n"
     ]
    },
    {
     "name": "stdout",
     "output_type": "stream",
     "text": [
      "        Loss: 1.1149 | Test Acc: 0.6225 | Best: 0.6340\n"
     ]
    },
    {
     "name": "stderr",
     "output_type": "stream",
     "text": [
      "[Epoch 21/100] Training: 100%|██████████| 164/164 [00:00<00:00, 170.83it/s]\n"
     ]
    },
    {
     "name": "stdout",
     "output_type": "stream",
     "text": [
      "        Loss: 1.0977 | Test Acc: 0.6616 | Best: 0.6616\n"
     ]
    },
    {
     "name": "stderr",
     "output_type": "stream",
     "text": [
      "[Epoch 22/100] Training: 100%|██████████| 164/164 [00:00<00:00, 169.56it/s]\n"
     ]
    },
    {
     "name": "stdout",
     "output_type": "stream",
     "text": [
      "        Loss: 1.0834 | Test Acc: 0.6194 | Best: 0.6616\n"
     ]
    },
    {
     "name": "stderr",
     "output_type": "stream",
     "text": [
      "[Epoch 23/100] Training: 100%|██████████| 164/164 [00:01<00:00, 163.03it/s]\n"
     ]
    },
    {
     "name": "stdout",
     "output_type": "stream",
     "text": [
      "        Loss: 1.0681 | Test Acc: 0.6554 | Best: 0.6616\n"
     ]
    },
    {
     "name": "stderr",
     "output_type": "stream",
     "text": [
      "[Epoch 24/100] Training: 100%|██████████| 164/164 [00:00<00:00, 171.61it/s]\n"
     ]
    },
    {
     "name": "stdout",
     "output_type": "stream",
     "text": [
      "        Loss: 1.0494 | Test Acc: 0.6493 | Best: 0.6616\n"
     ]
    },
    {
     "name": "stderr",
     "output_type": "stream",
     "text": [
      "[Epoch 25/100] Training: 100%|██████████| 164/164 [00:01<00:00, 159.84it/s]\n"
     ]
    },
    {
     "name": "stdout",
     "output_type": "stream",
     "text": [
      "        Loss: 1.0350 | Test Acc: 0.6654 | Best: 0.6654\n"
     ]
    },
    {
     "name": "stderr",
     "output_type": "stream",
     "text": [
      "[Epoch 26/100] Training: 100%|██████████| 164/164 [00:00<00:00, 172.17it/s]\n"
     ]
    },
    {
     "name": "stdout",
     "output_type": "stream",
     "text": [
      "        Loss: 1.0250 | Test Acc: 0.6470 | Best: 0.6654\n"
     ]
    },
    {
     "name": "stderr",
     "output_type": "stream",
     "text": [
      "[Epoch 27/100] Training: 100%|██████████| 164/164 [00:00<00:00, 169.60it/s]\n"
     ]
    },
    {
     "name": "stdout",
     "output_type": "stream",
     "text": [
      "        Loss: 1.0088 | Test Acc: 0.6907 | Best: 0.6907\n"
     ]
    },
    {
     "name": "stderr",
     "output_type": "stream",
     "text": [
      "[Epoch 28/100] Training: 100%|██████████| 164/164 [00:01<00:00, 162.19it/s]\n"
     ]
    },
    {
     "name": "stdout",
     "output_type": "stream",
     "text": [
      "        Loss: 1.0000 | Test Acc: 0.6455 | Best: 0.6907\n"
     ]
    },
    {
     "name": "stderr",
     "output_type": "stream",
     "text": [
      "[Epoch 29/100] Training: 100%|██████████| 164/164 [00:00<00:00, 175.42it/s]\n"
     ]
    },
    {
     "name": "stdout",
     "output_type": "stream",
     "text": [
      "        Loss: 0.9881 | Test Acc: 0.6700 | Best: 0.6907\n"
     ]
    },
    {
     "name": "stderr",
     "output_type": "stream",
     "text": [
      "[Epoch 30/100] Training: 100%|██████████| 164/164 [00:00<00:00, 164.90it/s]\n"
     ]
    },
    {
     "name": "stdout",
     "output_type": "stream",
     "text": [
      "        Loss: 0.9774 | Test Acc: 0.6884 | Best: 0.6907\n"
     ]
    },
    {
     "name": "stderr",
     "output_type": "stream",
     "text": [
      "[Epoch 31/100] Training: 100%|██████████| 164/164 [00:00<00:00, 171.81it/s]\n"
     ]
    },
    {
     "name": "stdout",
     "output_type": "stream",
     "text": [
      "        Loss: 0.9657 | Test Acc: 0.6639 | Best: 0.6907\n"
     ]
    },
    {
     "name": "stderr",
     "output_type": "stream",
     "text": [
      "[Epoch 32/100] Training: 100%|██████████| 164/164 [00:00<00:00, 170.76it/s]\n"
     ]
    },
    {
     "name": "stdout",
     "output_type": "stream",
     "text": [
      "        Loss: 0.9547 | Test Acc: 0.6700 | Best: 0.6907\n"
     ]
    },
    {
     "name": "stderr",
     "output_type": "stream",
     "text": [
      "[Epoch 33/100] Training: 100%|██████████| 164/164 [00:01<00:00, 149.38it/s]\n"
     ]
    },
    {
     "name": "stdout",
     "output_type": "stream",
     "text": [
      "        Loss: 0.9461 | Test Acc: 0.6761 | Best: 0.6907\n"
     ]
    },
    {
     "name": "stderr",
     "output_type": "stream",
     "text": [
      "[Epoch 34/100] Training: 100%|██████████| 164/164 [00:00<00:00, 173.54it/s]\n"
     ]
    },
    {
     "name": "stdout",
     "output_type": "stream",
     "text": [
      "        Loss: 0.9355 | Test Acc: 0.7205 | Best: 0.7205\n"
     ]
    },
    {
     "name": "stderr",
     "output_type": "stream",
     "text": [
      "[Epoch 35/100] Training: 100%|██████████| 164/164 [00:00<00:00, 165.29it/s]\n"
     ]
    },
    {
     "name": "stdout",
     "output_type": "stream",
     "text": [
      "        Loss: 0.9280 | Test Acc: 0.6761 | Best: 0.7205\n"
     ]
    },
    {
     "name": "stderr",
     "output_type": "stream",
     "text": [
      "[Epoch 36/100] Training: 100%|██████████| 164/164 [00:00<00:00, 164.33it/s]\n"
     ]
    },
    {
     "name": "stdout",
     "output_type": "stream",
     "text": [
      "        Loss: 0.9157 | Test Acc: 0.6815 | Best: 0.7205\n"
     ]
    },
    {
     "name": "stderr",
     "output_type": "stream",
     "text": [
      "[Epoch 37/100] Training: 100%|██████████| 164/164 [00:01<00:00, 159.22it/s]\n"
     ]
    },
    {
     "name": "stdout",
     "output_type": "stream",
     "text": [
      "        Loss: 0.9109 | Test Acc: 0.6983 | Best: 0.7205\n"
     ]
    },
    {
     "name": "stderr",
     "output_type": "stream",
     "text": [
      "[Epoch 38/100] Training: 100%|██████████| 164/164 [00:01<00:00, 155.01it/s]\n"
     ]
    },
    {
     "name": "stdout",
     "output_type": "stream",
     "text": [
      "        Loss: 0.9018 | Test Acc: 0.7121 | Best: 0.7205\n"
     ]
    },
    {
     "name": "stderr",
     "output_type": "stream",
     "text": [
      "[Epoch 39/100] Training: 100%|██████████| 164/164 [00:00<00:00, 169.25it/s]\n"
     ]
    },
    {
     "name": "stdout",
     "output_type": "stream",
     "text": [
      "        Loss: 0.8984 | Test Acc: 0.6761 | Best: 0.7205\n"
     ]
    },
    {
     "name": "stderr",
     "output_type": "stream",
     "text": [
      "[Epoch 40/100] Training: 100%|██████████| 164/164 [00:00<00:00, 166.78it/s]\n"
     ]
    },
    {
     "name": "stdout",
     "output_type": "stream",
     "text": [
      "        Loss: 0.8868 | Test Acc: 0.6715 | Best: 0.7205\n"
     ]
    },
    {
     "name": "stderr",
     "output_type": "stream",
     "text": [
      "[Epoch 41/100] Training: 100%|██████████| 164/164 [00:01<00:00, 163.30it/s]\n"
     ]
    },
    {
     "name": "stdout",
     "output_type": "stream",
     "text": [
      "        Loss: 0.8860 | Test Acc: 0.7075 | Best: 0.7205\n"
     ]
    },
    {
     "name": "stderr",
     "output_type": "stream",
     "text": [
      "[Epoch 42/100] Training: 100%|██████████| 164/164 [00:00<00:00, 165.90it/s]\n"
     ]
    },
    {
     "name": "stdout",
     "output_type": "stream",
     "text": [
      "        Loss: 0.8707 | Test Acc: 0.6922 | Best: 0.7205\n"
     ]
    },
    {
     "name": "stderr",
     "output_type": "stream",
     "text": [
      "[Epoch 43/100] Training: 100%|██████████| 164/164 [00:01<00:00, 161.86it/s]\n"
     ]
    },
    {
     "name": "stdout",
     "output_type": "stream",
     "text": [
      "        Loss: 0.8626 | Test Acc: 0.7243 | Best: 0.7243\n"
     ]
    },
    {
     "name": "stderr",
     "output_type": "stream",
     "text": [
      "[Epoch 44/100] Training: 100%|██████████| 164/164 [00:00<00:00, 172.85it/s]\n"
     ]
    },
    {
     "name": "stdout",
     "output_type": "stream",
     "text": [
      "        Loss: 0.8611 | Test Acc: 0.7320 | Best: 0.7320\n"
     ]
    },
    {
     "name": "stderr",
     "output_type": "stream",
     "text": [
      "[Epoch 45/100] Training: 100%|██████████| 164/164 [00:00<00:00, 167.84it/s]\n"
     ]
    },
    {
     "name": "stdout",
     "output_type": "stream",
     "text": [
      "        Loss: 0.8553 | Test Acc: 0.7175 | Best: 0.7320\n"
     ]
    },
    {
     "name": "stderr",
     "output_type": "stream",
     "text": [
      "[Epoch 46/100] Training: 100%|██████████| 164/164 [00:00<00:00, 172.06it/s]\n"
     ]
    },
    {
     "name": "stdout",
     "output_type": "stream",
     "text": [
      "        Loss: 0.8473 | Test Acc: 0.7121 | Best: 0.7320\n"
     ]
    },
    {
     "name": "stderr",
     "output_type": "stream",
     "text": [
      "[Epoch 47/100] Training: 100%|██████████| 164/164 [00:00<00:00, 168.72it/s]\n"
     ]
    },
    {
     "name": "stdout",
     "output_type": "stream",
     "text": [
      "        Loss: 0.8448 | Test Acc: 0.7136 | Best: 0.7320\n"
     ]
    },
    {
     "name": "stderr",
     "output_type": "stream",
     "text": [
      "[Epoch 48/100] Training: 100%|██████████| 164/164 [00:01<00:00, 161.82it/s]\n"
     ]
    },
    {
     "name": "stdout",
     "output_type": "stream",
     "text": [
      "        Loss: 0.8344 | Test Acc: 0.7044 | Best: 0.7320\n"
     ]
    },
    {
     "name": "stderr",
     "output_type": "stream",
     "text": [
      "[Epoch 49/100] Training: 100%|██████████| 164/164 [00:00<00:00, 169.61it/s]\n"
     ]
    },
    {
     "name": "stdout",
     "output_type": "stream",
     "text": [
      "        Loss: 0.8266 | Test Acc: 0.7312 | Best: 0.7320\n"
     ]
    },
    {
     "name": "stderr",
     "output_type": "stream",
     "text": [
      "[Epoch 50/100] Training: 100%|██████████| 164/164 [00:01<00:00, 150.87it/s]\n"
     ]
    },
    {
     "name": "stdout",
     "output_type": "stream",
     "text": [
      "        Loss: 0.8212 | Test Acc: 0.7182 | Best: 0.7320\n"
     ]
    },
    {
     "name": "stderr",
     "output_type": "stream",
     "text": [
      "[Epoch 51/100] Training: 100%|██████████| 164/164 [00:00<00:00, 171.00it/s]\n"
     ]
    },
    {
     "name": "stdout",
     "output_type": "stream",
     "text": [
      "        Loss: 0.8161 | Test Acc: 0.7129 | Best: 0.7320\n"
     ]
    },
    {
     "name": "stderr",
     "output_type": "stream",
     "text": [
      "[Epoch 52/100] Training: 100%|██████████| 164/164 [00:00<00:00, 169.46it/s]\n"
     ]
    },
    {
     "name": "stdout",
     "output_type": "stream",
     "text": [
      "        Loss: 0.8090 | Test Acc: 0.7511 | Best: 0.7511\n"
     ]
    },
    {
     "name": "stderr",
     "output_type": "stream",
     "text": [
      "[Epoch 53/100] Training: 100%|██████████| 164/164 [00:01<00:00, 160.78it/s]\n"
     ]
    },
    {
     "name": "stdout",
     "output_type": "stream",
     "text": [
      "        Loss: 0.8068 | Test Acc: 0.7412 | Best: 0.7511\n"
     ]
    },
    {
     "name": "stderr",
     "output_type": "stream",
     "text": [
      "[Epoch 54/100] Training: 100%|██████████| 164/164 [00:00<00:00, 172.69it/s]\n"
     ]
    },
    {
     "name": "stdout",
     "output_type": "stream",
     "text": [
      "        Loss: 0.7988 | Test Acc: 0.6715 | Best: 0.7511\n"
     ]
    },
    {
     "name": "stderr",
     "output_type": "stream",
     "text": [
      "[Epoch 55/100] Training: 100%|██████████| 164/164 [00:01<00:00, 161.09it/s]\n"
     ]
    },
    {
     "name": "stdout",
     "output_type": "stream",
     "text": [
      "        Loss: 0.7943 | Test Acc: 0.7328 | Best: 0.7511\n"
     ]
    },
    {
     "name": "stderr",
     "output_type": "stream",
     "text": [
      "[Epoch 56/100] Training: 100%|██████████| 164/164 [00:01<00:00, 163.75it/s]\n"
     ]
    },
    {
     "name": "stdout",
     "output_type": "stream",
     "text": [
      "        Loss: 0.7908 | Test Acc: 0.6937 | Best: 0.7511\n"
     ]
    },
    {
     "name": "stderr",
     "output_type": "stream",
     "text": [
      "[Epoch 57/100] Training: 100%|██████████| 164/164 [00:00<00:00, 172.89it/s]\n"
     ]
    },
    {
     "name": "stdout",
     "output_type": "stream",
     "text": [
      "        Loss: 0.7881 | Test Acc: 0.7205 | Best: 0.7511\n"
     ]
    },
    {
     "name": "stderr",
     "output_type": "stream",
     "text": [
      "[Epoch 58/100] Training: 100%|██████████| 164/164 [00:00<00:00, 165.99it/s]\n"
     ]
    },
    {
     "name": "stdout",
     "output_type": "stream",
     "text": [
      "        Loss: 0.7788 | Test Acc: 0.7052 | Best: 0.7511\n"
     ]
    },
    {
     "name": "stderr",
     "output_type": "stream",
     "text": [
      "[Epoch 59/100] Training: 100%|██████████| 164/164 [00:01<00:00, 156.19it/s]\n"
     ]
    },
    {
     "name": "stdout",
     "output_type": "stream",
     "text": [
      "        Loss: 0.7783 | Test Acc: 0.7450 | Best: 0.7511\n"
     ]
    },
    {
     "name": "stderr",
     "output_type": "stream",
     "text": [
      "[Epoch 60/100] Training: 100%|██████████| 164/164 [00:00<00:00, 167.69it/s]\n"
     ]
    },
    {
     "name": "stdout",
     "output_type": "stream",
     "text": [
      "        Loss: 0.7726 | Test Acc: 0.7213 | Best: 0.7511\n"
     ]
    },
    {
     "name": "stderr",
     "output_type": "stream",
     "text": [
      "[Epoch 61/100] Training: 100%|██████████| 164/164 [00:01<00:00, 161.56it/s]\n"
     ]
    },
    {
     "name": "stdout",
     "output_type": "stream",
     "text": [
      "        Loss: 0.7609 | Test Acc: 0.7381 | Best: 0.7511\n"
     ]
    },
    {
     "name": "stderr",
     "output_type": "stream",
     "text": [
      "[Epoch 62/100] Training: 100%|██████████| 164/164 [00:01<00:00, 161.15it/s]\n"
     ]
    },
    {
     "name": "stdout",
     "output_type": "stream",
     "text": [
      "        Loss: 0.7626 | Test Acc: 0.7106 | Best: 0.7511\n"
     ]
    },
    {
     "name": "stderr",
     "output_type": "stream",
     "text": [
      "[Epoch 63/100] Training: 100%|██████████| 164/164 [00:00<00:00, 168.71it/s]\n"
     ]
    },
    {
     "name": "stdout",
     "output_type": "stream",
     "text": [
      "        Loss: 0.7585 | Test Acc: 0.7243 | Best: 0.7511\n"
     ]
    },
    {
     "name": "stderr",
     "output_type": "stream",
     "text": [
      "[Epoch 64/100] Training: 100%|██████████| 164/164 [00:00<00:00, 167.34it/s]\n"
     ]
    },
    {
     "name": "stdout",
     "output_type": "stream",
     "text": [
      "        Loss: 0.7546 | Test Acc: 0.7320 | Best: 0.7511\n"
     ]
    },
    {
     "name": "stderr",
     "output_type": "stream",
     "text": [
      "[Epoch 65/100] Training: 100%|██████████| 164/164 [00:01<00:00, 156.33it/s]\n"
     ]
    },
    {
     "name": "stdout",
     "output_type": "stream",
     "text": [
      "        Loss: 0.7468 | Test Acc: 0.7014 | Best: 0.7511\n"
     ]
    },
    {
     "name": "stderr",
     "output_type": "stream",
     "text": [
      "[Epoch 66/100] Training: 100%|██████████| 164/164 [00:00<00:00, 168.64it/s]\n"
     ]
    },
    {
     "name": "stdout",
     "output_type": "stream",
     "text": [
      "        Loss: 0.7424 | Test Acc: 0.7450 | Best: 0.7511\n"
     ]
    },
    {
     "name": "stderr",
     "output_type": "stream",
     "text": [
      "[Epoch 67/100] Training: 100%|██████████| 164/164 [00:00<00:00, 168.98it/s]\n"
     ]
    },
    {
     "name": "stdout",
     "output_type": "stream",
     "text": [
      "        Loss: 0.7398 | Test Acc: 0.7312 | Best: 0.7511\n"
     ]
    },
    {
     "name": "stderr",
     "output_type": "stream",
     "text": [
      "[Epoch 68/100] Training: 100%|██████████| 164/164 [00:00<00:00, 164.19it/s]\n"
     ]
    },
    {
     "name": "stdout",
     "output_type": "stream",
     "text": [
      "        Loss: 0.7347 | Test Acc: 0.7734 | Best: 0.7734\n"
     ]
    },
    {
     "name": "stderr",
     "output_type": "stream",
     "text": [
      "[Epoch 69/100] Training: 100%|██████████| 164/164 [00:00<00:00, 169.66it/s]\n"
     ]
    },
    {
     "name": "stdout",
     "output_type": "stream",
     "text": [
      "        Loss: 0.7313 | Test Acc: 0.7381 | Best: 0.7734\n"
     ]
    },
    {
     "name": "stderr",
     "output_type": "stream",
     "text": [
      "[Epoch 70/100] Training: 100%|██████████| 164/164 [00:00<00:00, 164.82it/s]\n"
     ]
    },
    {
     "name": "stdout",
     "output_type": "stream",
     "text": [
      "        Loss: 0.7299 | Test Acc: 0.7312 | Best: 0.7734\n"
     ]
    },
    {
     "name": "stderr",
     "output_type": "stream",
     "text": [
      "[Epoch 71/100] Training: 100%|██████████| 164/164 [00:01<00:00, 163.83it/s]\n"
     ]
    },
    {
     "name": "stdout",
     "output_type": "stream",
     "text": [
      "        Loss: 0.7285 | Test Acc: 0.7596 | Best: 0.7734\n"
     ]
    },
    {
     "name": "stderr",
     "output_type": "stream",
     "text": [
      "[Epoch 72/100] Training: 100%|██████████| 164/164 [00:00<00:00, 166.83it/s]\n"
     ]
    },
    {
     "name": "stdout",
     "output_type": "stream",
     "text": [
      "        Loss: 0.7273 | Test Acc: 0.7389 | Best: 0.7734\n"
     ]
    },
    {
     "name": "stderr",
     "output_type": "stream",
     "text": [
      "[Epoch 73/100] Training: 100%|██████████| 164/164 [00:00<00:00, 167.16it/s]\n"
     ]
    },
    {
     "name": "stdout",
     "output_type": "stream",
     "text": [
      "        Loss: 0.7166 | Test Acc: 0.7343 | Best: 0.7734\n"
     ]
    },
    {
     "name": "stderr",
     "output_type": "stream",
     "text": [
      "[Epoch 74/100] Training: 100%|██████████| 164/164 [00:00<00:00, 169.43it/s]\n"
     ]
    },
    {
     "name": "stdout",
     "output_type": "stream",
     "text": [
      "        Loss: 0.7171 | Test Acc: 0.7420 | Best: 0.7734\n"
     ]
    },
    {
     "name": "stderr",
     "output_type": "stream",
     "text": [
      "[Epoch 75/100] Training: 100%|██████████| 164/164 [00:00<00:00, 169.27it/s]\n"
     ]
    },
    {
     "name": "stdout",
     "output_type": "stream",
     "text": [
      "        Loss: 0.7179 | Test Acc: 0.7734 | Best: 0.7734\n"
     ]
    },
    {
     "name": "stderr",
     "output_type": "stream",
     "text": [
      "[Epoch 76/100] Training: 100%|██████████| 164/164 [00:00<00:00, 167.52it/s]\n"
     ]
    },
    {
     "name": "stdout",
     "output_type": "stream",
     "text": [
      "        Loss: 0.7079 | Test Acc: 0.7573 | Best: 0.7734\n"
     ]
    },
    {
     "name": "stderr",
     "output_type": "stream",
     "text": [
      "[Epoch 77/100] Training: 100%|██████████| 164/164 [00:01<00:00, 153.37it/s]\n"
     ]
    },
    {
     "name": "stdout",
     "output_type": "stream",
     "text": [
      "        Loss: 0.7030 | Test Acc: 0.7511 | Best: 0.7734\n"
     ]
    },
    {
     "name": "stderr",
     "output_type": "stream",
     "text": [
      "[Epoch 78/100] Training: 100%|██████████| 164/164 [00:00<00:00, 168.39it/s]\n"
     ]
    },
    {
     "name": "stdout",
     "output_type": "stream",
     "text": [
      "        Loss: 0.7115 | Test Acc: 0.7902 | Best: 0.7902\n"
     ]
    },
    {
     "name": "stderr",
     "output_type": "stream",
     "text": [
      "[Epoch 79/100] Training: 100%|██████████| 164/164 [00:00<00:00, 167.34it/s]\n"
     ]
    },
    {
     "name": "stdout",
     "output_type": "stream",
     "text": [
      "        Loss: 0.7005 | Test Acc: 0.7665 | Best: 0.7902\n"
     ]
    },
    {
     "name": "stderr",
     "output_type": "stream",
     "text": [
      "[Epoch 80/100] Training: 100%|██████████| 164/164 [00:01<00:00, 160.00it/s]\n"
     ]
    },
    {
     "name": "stdout",
     "output_type": "stream",
     "text": [
      "        Loss: 0.6966 | Test Acc: 0.7741 | Best: 0.7902\n"
     ]
    },
    {
     "name": "stderr",
     "output_type": "stream",
     "text": [
      "[Epoch 81/100] Training: 100%|██████████| 164/164 [00:00<00:00, 171.72it/s]\n"
     ]
    },
    {
     "name": "stdout",
     "output_type": "stream",
     "text": [
      "        Loss: 0.6971 | Test Acc: 0.7519 | Best: 0.7902\n"
     ]
    },
    {
     "name": "stderr",
     "output_type": "stream",
     "text": [
      "[Epoch 82/100] Training: 100%|██████████| 164/164 [00:01<00:00, 161.85it/s]\n"
     ]
    },
    {
     "name": "stdout",
     "output_type": "stream",
     "text": [
      "        Loss: 0.6952 | Test Acc: 0.7879 | Best: 0.7902\n"
     ]
    },
    {
     "name": "stderr",
     "output_type": "stream",
     "text": [
      "[Epoch 83/100] Training: 100%|██████████| 164/164 [00:01<00:00, 156.18it/s]\n"
     ]
    },
    {
     "name": "stdout",
     "output_type": "stream",
     "text": [
      "        Loss: 0.6827 | Test Acc: 0.7818 | Best: 0.7902\n"
     ]
    },
    {
     "name": "stderr",
     "output_type": "stream",
     "text": [
      "[Epoch 84/100] Training: 100%|██████████| 164/164 [00:00<00:00, 172.43it/s]\n"
     ]
    },
    {
     "name": "stdout",
     "output_type": "stream",
     "text": [
      "        Loss: 0.6863 | Test Acc: 0.7588 | Best: 0.7902\n"
     ]
    },
    {
     "name": "stderr",
     "output_type": "stream",
     "text": [
      "[Epoch 85/100] Training: 100%|██████████| 164/164 [00:00<00:00, 167.86it/s]\n"
     ]
    },
    {
     "name": "stdout",
     "output_type": "stream",
     "text": [
      "        Loss: 0.6801 | Test Acc: 0.7779 | Best: 0.7902\n"
     ]
    },
    {
     "name": "stderr",
     "output_type": "stream",
     "text": [
      "[Epoch 86/100] Training: 100%|██████████| 164/164 [00:01<00:00, 154.28it/s]\n"
     ]
    },
    {
     "name": "stdout",
     "output_type": "stream",
     "text": [
      "        Loss: 0.6823 | Test Acc: 0.7511 | Best: 0.7902\n"
     ]
    },
    {
     "name": "stderr",
     "output_type": "stream",
     "text": [
      "[Epoch 87/100] Training: 100%|██████████| 164/164 [00:00<00:00, 168.55it/s]\n"
     ]
    },
    {
     "name": "stdout",
     "output_type": "stream",
     "text": [
      "        Loss: 0.6813 | Test Acc: 0.7672 | Best: 0.7902\n"
     ]
    },
    {
     "name": "stderr",
     "output_type": "stream",
     "text": [
      "[Epoch 88/100] Training: 100%|██████████| 164/164 [00:00<00:00, 165.82it/s]\n"
     ]
    },
    {
     "name": "stdout",
     "output_type": "stream",
     "text": [
      "        Loss: 0.6777 | Test Acc: 0.7887 | Best: 0.7902\n"
     ]
    },
    {
     "name": "stderr",
     "output_type": "stream",
     "text": [
      "[Epoch 89/100] Training: 100%|██████████| 164/164 [00:01<00:00, 161.26it/s]\n"
     ]
    },
    {
     "name": "stdout",
     "output_type": "stream",
     "text": [
      "        Loss: 0.6755 | Test Acc: 0.7833 | Best: 0.7902\n"
     ]
    },
    {
     "name": "stderr",
     "output_type": "stream",
     "text": [
      "[Epoch 90/100] Training: 100%|██████████| 164/164 [00:01<00:00, 161.01it/s]\n"
     ]
    },
    {
     "name": "stdout",
     "output_type": "stream",
     "text": [
      "        Loss: 0.6742 | Test Acc: 0.7818 | Best: 0.7902\n"
     ]
    },
    {
     "name": "stderr",
     "output_type": "stream",
     "text": [
      "[Epoch 91/100] Training: 100%|██████████| 164/164 [00:00<00:00, 167.87it/s]\n"
     ]
    },
    {
     "name": "stdout",
     "output_type": "stream",
     "text": [
      "        Loss: 0.6730 | Test Acc: 0.7757 | Best: 0.7902\n"
     ]
    },
    {
     "name": "stderr",
     "output_type": "stream",
     "text": [
      "[Epoch 92/100] Training: 100%|██████████| 164/164 [00:00<00:00, 166.16it/s]\n"
     ]
    },
    {
     "name": "stdout",
     "output_type": "stream",
     "text": [
      "        Loss: 0.6696 | Test Acc: 0.7818 | Best: 0.7902\n"
     ]
    },
    {
     "name": "stderr",
     "output_type": "stream",
     "text": [
      "[Epoch 93/100] Training: 100%|██████████| 164/164 [00:01<00:00, 155.79it/s]\n"
     ]
    },
    {
     "name": "stdout",
     "output_type": "stream",
     "text": [
      "        Loss: 0.6627 | Test Acc: 0.7994 | Best: 0.7994\n"
     ]
    },
    {
     "name": "stderr",
     "output_type": "stream",
     "text": [
      "[Epoch 94/100] Training: 100%|██████████| 164/164 [00:00<00:00, 166.55it/s]\n"
     ]
    },
    {
     "name": "stdout",
     "output_type": "stream",
     "text": [
      "        Loss: 0.6656 | Test Acc: 0.7818 | Best: 0.7994\n"
     ]
    },
    {
     "name": "stderr",
     "output_type": "stream",
     "text": [
      "[Epoch 95/100] Training: 100%|██████████| 164/164 [00:01<00:00, 158.91it/s]\n"
     ]
    },
    {
     "name": "stdout",
     "output_type": "stream",
     "text": [
      "        Loss: 0.6582 | Test Acc: 0.7841 | Best: 0.7994\n"
     ]
    },
    {
     "name": "stderr",
     "output_type": "stream",
     "text": [
      "[Epoch 96/100] Training: 100%|██████████| 164/164 [00:00<00:00, 176.53it/s]\n"
     ]
    },
    {
     "name": "stdout",
     "output_type": "stream",
     "text": [
      "        Loss: 0.6573 | Test Acc: 0.7810 | Best: 0.7994\n"
     ]
    },
    {
     "name": "stderr",
     "output_type": "stream",
     "text": [
      "[Epoch 97/100] Training: 100%|██████████| 164/164 [00:00<00:00, 169.95it/s]\n"
     ]
    },
    {
     "name": "stdout",
     "output_type": "stream",
     "text": [
      "        Loss: 0.6554 | Test Acc: 0.7726 | Best: 0.7994\n"
     ]
    },
    {
     "name": "stderr",
     "output_type": "stream",
     "text": [
      "[Epoch 98/100] Training: 100%|██████████| 164/164 [00:01<00:00, 162.53it/s]\n"
     ]
    },
    {
     "name": "stdout",
     "output_type": "stream",
     "text": [
      "        Loss: 0.6511 | Test Acc: 0.7925 | Best: 0.7994\n"
     ]
    },
    {
     "name": "stderr",
     "output_type": "stream",
     "text": [
      "[Epoch 99/100] Training: 100%|██████████| 164/164 [00:01<00:00, 160.94it/s]\n"
     ]
    },
    {
     "name": "stdout",
     "output_type": "stream",
     "text": [
      "        Loss: 0.6557 | Test Acc: 0.8032 | Best: 0.8032\n"
     ]
    },
    {
     "name": "stderr",
     "output_type": "stream",
     "text": [
      "[Epoch 100/100] Training: 100%|██████████| 164/164 [00:00<00:00, 169.08it/s]\n"
     ]
    },
    {
     "name": "stdout",
     "output_type": "stream",
     "text": [
      "        Loss: 0.6439 | Test Acc: 0.7757 | Best: 0.8032\n"
     ]
    }
   ],
   "source": [
    "from tqdm import tqdm\n",
    "import torch.nn.functional as F\n",
    "from sklearn.metrics import accuracy_score, classification_report\n",
    "from tqdm import tqdm\n",
    "import os\n",
    "\n",
    "# 1. 학습 환경\n",
    "num_epochs = 100\n",
    "learning_rate = 1e-3\n",
    "batch_size = 32\n",
    "model_depth = 2\n",
    "hidden_channels = 64\n",
    "\n",
    "\n",
    "# 2. 모델 초기화\n",
    "model = HandGestureGCN(in_channels=2, hidden_channels=hidden_channels, out_channels=10, depth=model_depth).to(device)\n",
    "optimizer = torch.optim.Adam(model.parameters(), lr=1e-3)\n",
    "criterion = torch.nn.CrossEntropyLoss()\n",
    "\n",
    "# 3. 데이터셋 분할\n",
    "train_data, test_data = train_test_split(data_list, test_size=0.2, random_state=42)\n",
    "train_loader = DataLoader(train_data, batch_size=batch_size, shuffle=True)\n",
    "test_loader = DataLoader(test_data, batch_size=batch_size, shuffle=False)\n",
    "\n",
    "best_test_acc = 0.0\n",
    "best_model_path = 'model/keypoint_classifier/gcn_checkpoints/best_model.pth'\n",
    "\n",
    "# 4. Training loop\n",
    "for epoch in range(1, num_epochs + 1):\n",
    "    # 학습\n",
    "    model.train()\n",
    "    total_loss = 0 \n",
    "    for batch in tqdm(train_loader, desc=f\"[Epoch {epoch}/{num_epochs}] Training\"):\n",
    "        batch = batch.to(device)\n",
    "        optimizer.zero_grad()\n",
    "        out = model(batch.x, batch.edge_index, batch.batch)\n",
    "        loss = criterion(out, batch.y)\n",
    "        loss.backward()\n",
    "        optimizer.step()\n",
    "        total_loss += loss.item() * batch.num_graphs\n",
    "    total_loss /= len(train_loader.dataset)\n",
    "\n",
    "    # 평가\n",
    "    model.eval()\n",
    "    preds, targets = [], []\n",
    "    with torch.no_grad():\n",
    "        for batch in test_loader:\n",
    "            batch = batch.to(device)\n",
    "            out = model(batch.x, batch.edge_index, batch.batch)\n",
    "            pred = out.argmax(dim=1)\n",
    "            preds.append(pred.cpu())\n",
    "            targets.append(batch.y.cpu())\n",
    "    \n",
    "    preds = torch.cat(preds)\n",
    "    targets = torch.cat(targets)\n",
    "    test_acc = accuracy_score(targets, preds)\n",
    "\n",
    "    if test_acc > best_test_acc:\n",
    "        best_test_acc = test_acc\n",
    "        os.makedirs(os.path.dirname(best_model_path), exist_ok=True)\n",
    "        torch.save(model.state_dict(), best_model_path)\n",
    "    \n",
    "    print(f\"        Loss: {total_loss:.4f} | Test Acc: {test_acc:.4f} | Best: {best_test_acc:.4f}\")"
   ]
  },
  {
   "cell_type": "markdown",
   "metadata": {},
   "source": [
    "# 3. Model test"
   ]
  },
  {
   "cell_type": "code",
   "execution_count": 40,
   "metadata": {},
   "outputs": [
    {
     "name": "stdout",
     "output_type": "stream",
     "text": [
      "\n",
      "Classification result\n",
      "              precision    recall  f1-score   support\n",
      "\n",
      "           0       0.54      0.79      0.64       301\n",
      "           1       0.89      0.95      0.92       300\n",
      "           2       0.32      0.82      0.46       300\n",
      "           3       0.44      0.48      0.46       301\n",
      "           4       0.64      0.61      0.62       300\n",
      "           5       0.82      0.61      0.70       300\n",
      "           6       0.69      0.60      0.64       299\n",
      "           7       0.66      0.33      0.44       324\n",
      "           8       0.80      0.49      0.60       290\n",
      "           9       0.86      0.14      0.24       306\n",
      "\n",
      "    accuracy                           0.58      3021\n",
      "   macro avg       0.66      0.58      0.57      3021\n",
      "weighted avg       0.66      0.58      0.57      3021\n",
      "\n"
     ]
    },
    {
     "data": {
      "image/png": "[encoded data removed]",
      "text/plain": [
       "<Figure size 800x800 with 2 Axes>"
      ]
     },
     "metadata": {},
     "output_type": "display_data"
    }
   ],
   "source": [
    "import numpy as np\n",
    "import torch\n",
    "from torch_geometric.data import Data\n",
    "from torch_geometric.loader import DataLoader\n",
    "from sklearn.metrics import classification_report, confusion_matrix, ConfusionMatrixDisplay\n",
    "import matplotlib.pyplot as plt\n",
    "\n",
    "# 1. test data 로드\n",
    "test_dataset_path = 'model/keypoint_classifier/test_keypoint.csv'\n",
    "test_coords = np.loadtxt(test_dataset_path, delimiter=',', dtype='float32', usecols=range(1, 43))\n",
    "test_labels = np.loadtxt(test_dataset_path, delimiter=',', dtype='float32', usecols=0)\n",
    "\n",
    "test_coords = torch.tensor(test_coords)\n",
    "test_labels = torch.tensor(test_labels)\n",
    "\n",
    "# 2. edge_index 정의 (train과 동일)\n",
    "edges = [\n",
    "    (0, 1), (1, 2), (2, 3), (3, 4), (0, 5),\n",
    "    (5, 9), (5, 6), (6, 7), (7, 8),\n",
    "    (9, 13), (9, 10), (10, 11), (11, 12),\n",
    "    (13, 17), (13, 14), (14, 15), (15, 16),\n",
    "    (0, 17), (17, 18), (18, 19), (19, 20)\n",
    "]\n",
    "edges += [(j, i) for (i, j) in edges]\n",
    "\n",
    "edge_index = torch.tensor(edges, dtype=torch.long).t().contiguous()\n",
    "from torch_geometric.utils import add_self_loops\n",
    "edge_index, _ = add_self_loops(edge_index, num_nodes=21)\n",
    "\n",
    "# 3. Data 리스트 생성\n",
    "def create_data_list(coord_tensor, label_tensor, edge_index):\n",
    "    data_list = []\n",
    "    for i in range(coord_tensor.size(0)):\n",
    "        coords = coord_tensor[i].view(21, 2)\n",
    "        label = label_tensor[i].long()\n",
    "        data = Data(x=coords, edge_index=edge_index, y=label)\n",
    "        data_list.append(data)\n",
    "    return data_list\n",
    "\n",
    "test_data_list = create_data_list(test_coords, test_labels, edge_index)\n",
    "test_loader = DataLoader(test_data_list, batch_size=32, shuffle=False)\n",
    "\n",
    "# 4. 모델 정의 (같은 구조로)\n",
    "class HandGestureGCN(torch.nn.Module):\n",
    "    def __init__(self, in_channels=2, hidden_channels=64, out_channels=10, depth=2):\n",
    "        super().__init__()\n",
    "        from torch_geometric.nn import GCNConv, global_mean_pool\n",
    "        self.convs = torch.nn.ModuleList()\n",
    "        for i in range(depth):\n",
    "            self.convs.append(GCNConv(in_channels if i == 0 else hidden_channels, hidden_channels))\n",
    "        self.fc = torch.nn.Linear(hidden_channels, out_channels)\n",
    "        self.pool = global_mean_pool\n",
    "\n",
    "    def forward(self, x, edge_index, batch):\n",
    "        for conv in self.convs:\n",
    "            x = conv(x, edge_index)\n",
    "            x = torch.relu(x)\n",
    "        x = self.pool(x, batch)\n",
    "        return self.fc(x)\n",
    "\n",
    "# 5. 모델 로딩 및 평가\n",
    "device = torch.device('cuda' if torch.cuda.is_available() else 'cpu')\n",
    "model = HandGestureGCN().to(device)\n",
    "model.load_state_dict(torch.load('model/keypoint_classifier/gcn_checkpoints/best_model.pth'))\n",
    "model.eval()\n",
    "\n",
    "all_preds, all_labels = [], []\n",
    "\n",
    "with torch.no_grad():\n",
    "    for batch in test_loader:\n",
    "        batch = batch.to(device)\n",
    "        out = model(batch.x, batch.edge_index, batch.batch)\n",
    "        pred = out.argmax(dim=1)\n",
    "        all_preds.append(pred.cpu())\n",
    "        all_labels.append(batch.y.cpu())\n",
    "\n",
    "all_preds = torch.cat(all_preds)\n",
    "all_labels = torch.cat(all_labels)\n",
    "\n",
    "# 6. Classification Report\n",
    "print(\"\\nClassification result\")\n",
    "print(classification_report(all_labels, all_preds, digits=2))\n",
    "\n",
    "# 7. Confusion Matrix\n",
    "cm = confusion_matrix(all_labels, all_preds)\n",
    "disp = ConfusionMatrixDisplay(confusion_matrix=cm, display_labels=[str(i) for i in range(10)])\n",
    "fig, ax = plt.subplots(figsize=(8, 8))\n",
    "disp.plot(ax=ax, cmap='Blues', xticks_rotation=45)\n",
    "plt.title(\"Confusion Matrix\")\n",
    "plt.tight_layout()\n",
    "plt.show()\n"
   ]
  },
  {
   "cell_type": "code",
   "execution_count": null,
   "metadata": {},
   "outputs": [],
   "source": []
  }
 ],
 "metadata": {
  "kernelspec": {
   "display_name": "dnn",
   "language": "python",
   "name": "python3"
  },
  "language_info": {
   "codemirror_mode": {
    "name": "ipython",
    "version": 3
   },
   "file_extension": ".py",
   "mimetype": "text/x-python",
   "name": "python",
   "nbconvert_exporter": "python",
   "pygments_lexer": "ipython3",
   "version": "3.9.18"
  }
 },
 "nbformat": 4,
 "nbformat_minor": 2
}
